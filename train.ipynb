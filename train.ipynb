{
 "cells": [
  {
   "cell_type": "code",
   "execution_count": 59,
   "metadata": {},
   "outputs": [],
   "source": [
    "import torch \n",
    "import torch.nn as nn\n",
    "import torch.nn.functional as F\n",
    "\n",
    "from tqdm import tqdm\n"
   ]
  },
  {
   "cell_type": "code",
   "execution_count": 26,
   "metadata": {},
   "outputs": [
    {
     "data": {
      "text/plain": [
       "<torch._C.Generator at 0x1076a2fb0>"
      ]
     },
     "execution_count": 26,
     "metadata": {},
     "output_type": "execute_result"
    }
   ],
   "source": [
    "torch.manual_seed(42)\n"
   ]
  },
  {
   "cell_type": "markdown",
   "metadata": {},
   "source": [
    "Starting with a corpus with 3 tokens: a, b and c."
   ]
  },
  {
   "cell_type": "code",
   "execution_count": 27,
   "metadata": {},
   "outputs": [],
   "source": [
    "id2token = [\"<UNK>\", \"a\", \"b\", \"c\"]\n",
    "token2id = {token: i for i, token in enumerate(id2token)}\n",
    "           # i.e. {\"<UNK>\": 0, \"a\": 1, \"b\": 2, \"c\": 3}"
   ]
  },
  {
   "cell_type": "code",
   "execution_count": 61,
   "metadata": {},
   "outputs": [],
   "source": [
    "# HYPERPARAMETERS\n",
    "VOCAB_SIZE = len(token2id) # 4\n",
    "EMB_DIM = 8\n",
    "SEQ_LEN = 3\n",
    "LEARNING_RATE = 0.01"
   ]
  },
  {
   "cell_type": "code",
   "execution_count": 29,
   "metadata": {},
   "outputs": [],
   "source": [
    "# DEFINE Training Data\n",
    "data = [\n",
    "    \"aaa\",\n",
    "    \"bbb\",\n",
    "    \"ccc\"\n",
    "]"
   ]
  },
  {
   "cell_type": "code",
   "execution_count": 30,
   "metadata": {},
   "outputs": [
    {
     "name": "stdout",
     "output_type": "stream",
     "text": [
      "[[1, 1, 1], [2, 2, 2], [3, 3, 3]]\n"
     ]
    }
   ],
   "source": [
    "# ENCODE DATA\n",
    "data_tokens = [\n",
    "    [token2id[token] for token in sequence] for sequence in data\n",
    "]\n",
    "print(data_tokens)"
   ]
  },
  {
   "cell_type": "markdown",
   "metadata": {},
   "source": [
    "## Prepare the model"
   ]
  },
  {
   "cell_type": "code",
   "execution_count": 32,
   "metadata": {},
   "outputs": [
    {
     "name": "stdout",
     "output_type": "stream",
     "text": [
      "tensor([1, 0, 1])\n"
     ]
    }
   ],
   "source": [
    "mask = torch.tensor([1, 0, 1])\n",
    "actual = torch.tensor(data_tokens[0]).long()\n",
    "ex = actual.clone()\n",
    "ex[mask == 0] = token2id[\"<UNK>\"]\n",
    "ex = ex.long()  # Add this line\n",
    "print(ex)"
   ]
  },
  {
   "cell_type": "code",
   "execution_count": 53,
   "metadata": {},
   "outputs": [],
   "source": [
    "class SimpleTransformer(nn.Module):\n",
    "    def __init__(self):\n",
    "        super().__init__()\n",
    "        self.emb = nn.Embedding(VOCAB_SIZE, EMB_DIM)\n",
    "        # LINEAR LAYER to use inside attention mechanism!?!?!\n",
    "        self.out = nn.Linear(EMB_DIM, VOCAB_SIZE)\n",
    "    \n",
    "    def forward(self, x):\n",
    "        x = self.emb(x)\n",
    "        # Here we'd do positional encoding :P\n",
    "        atn = x @ x.T\n",
    "        atn = F.softmax(atn, -1)\n",
    "        enc = atn @ x\n",
    "        logits = self.out(enc)\n",
    "        probs = F.softmax(logits, dim=-1)\n",
    "        return probs\n",
    "\n"
   ]
  },
  {
   "cell_type": "code",
   "execution_count": 63,
   "metadata": {},
   "outputs": [],
   "source": [
    "model = SimpleTransformer()\n",
    "optimizer = torch.optim.SGD(model.parameters(), lr=LEARNING_RATE)"
   ]
  },
  {
   "cell_type": "code",
   "execution_count": 67,
   "metadata": {},
   "outputs": [
    {
     "data": {
      "text/html": [
       "Tracking run with wandb version 0.18.5"
      ],
      "text/plain": [
       "<IPython.core.display.HTML object>"
      ]
     },
     "metadata": {},
     "output_type": "display_data"
    },
    {
     "data": {
      "text/html": [
       "Run data is saved locally in <code>/Users/x25bd/Code/mlx/week-4/mlx5.4-transformers/wandb/run-20241105_172254-p316kwve</code>"
      ],
      "text/plain": [
       "<IPython.core.display.HTML object>"
      ]
     },
     "metadata": {},
     "output_type": "display_data"
    },
    {
     "data": {
      "text/html": [
       "Syncing run <strong><a href='https://wandb.ai/machine-learning-institute/mlx5.4-transformers/runs/p316kwve' target=\"_blank\">simple-transformer-setup</a></strong> to <a href='https://wandb.ai/machine-learning-institute/mlx5.4-transformers' target=\"_blank\">Weights & Biases</a> (<a href='https://wandb.me/run' target=\"_blank\">docs</a>)<br/>"
      ],
      "text/plain": [
       "<IPython.core.display.HTML object>"
      ]
     },
     "metadata": {},
     "output_type": "display_data"
    },
    {
     "data": {
      "text/html": [
       " View project at <a href='https://wandb.ai/machine-learning-institute/mlx5.4-transformers' target=\"_blank\">https://wandb.ai/machine-learning-institute/mlx5.4-transformers</a>"
      ],
      "text/plain": [
       "<IPython.core.display.HTML object>"
      ]
     },
     "metadata": {},
     "output_type": "display_data"
    },
    {
     "data": {
      "text/html": [
       " View run at <a href='https://wandb.ai/machine-learning-institute/mlx5.4-transformers/runs/p316kwve' target=\"_blank\">https://wandb.ai/machine-learning-institute/mlx5.4-transformers/runs/p316kwve</a>"
      ],
      "text/plain": [
       "<IPython.core.display.HTML object>"
      ]
     },
     "metadata": {},
     "output_type": "display_data"
    },
    {
     "name": "stderr",
     "output_type": "stream",
     "text": [
      "100%|██████████| 1000/1000 [00:00<00:00, 1040.68it/s]\n"
     ]
    },
    {
     "data": {
      "text/html": [
       "<style>\n",
       "    table.wandb td:nth-child(1) { padding: 0 10px; text-align: left ; width: auto;} td:nth-child(2) {text-align: left ; width: 100%}\n",
       "    .wandb-row { display: flex; flex-direction: row; flex-wrap: wrap; justify-content: flex-start; width: 100% }\n",
       "    .wandb-col { display: flex; flex-direction: column; flex-basis: 100%; flex: 1; padding: 10px; }\n",
       "    </style>\n",
       "<div class=\"wandb-row\"><div class=\"wandb-col\"><h3>Run history:</h3><br/><table class=\"wandb\"><tr><td>loss</td><td>▅██▇▄▆▅▄▃▂▃▂▂▂▂▂▁▁▂▁▁▁▁▁▁▁▁▁▁▁▁▁▁▁▁▁▁▁▁▁</td></tr></table><br/></div><div class=\"wandb-col\"><h3>Run summary:</h3><br/><table class=\"wandb\"><tr><td>loss</td><td>0.75229</td></tr></table><br/></div></div>"
      ],
      "text/plain": [
       "<IPython.core.display.HTML object>"
      ]
     },
     "metadata": {},
     "output_type": "display_data"
    },
    {
     "data": {
      "text/html": [
       " View run <strong style=\"color:#cdcd00\">simple-transformer-setup</strong> at: <a href='https://wandb.ai/machine-learning-institute/mlx5.4-transformers/runs/p316kwve' target=\"_blank\">https://wandb.ai/machine-learning-institute/mlx5.4-transformers/runs/p316kwve</a><br/> View project at: <a href='https://wandb.ai/machine-learning-institute/mlx5.4-transformers' target=\"_blank\">https://wandb.ai/machine-learning-institute/mlx5.4-transformers</a><br/>Synced 5 W&B file(s), 0 media file(s), 0 artifact file(s) and 0 other file(s)"
      ],
      "text/plain": [
       "<IPython.core.display.HTML object>"
      ]
     },
     "metadata": {},
     "output_type": "display_data"
    },
    {
     "data": {
      "text/html": [
       "Find logs at: <code>./wandb/run-20241105_172254-p316kwve/logs</code>"
      ],
      "text/plain": [
       "<IPython.core.display.HTML object>"
      ]
     },
     "metadata": {},
     "output_type": "display_data"
    }
   ],
   "source": [
    "# Trainin loop\n",
    "# Add wandb logging\n",
    "import wandb\n",
    "wandb.init(project=\"mlx5.4-transformers\", name=\"simple-transformer-setup\")\n",
    "for epoch in tqdm(range(1000)):\n",
    "    for i, sequence in enumerate(data):\n",
    "        # Tokenize the sequence\n",
    "        seq = [token2id[token] for token in sequence]\n",
    "\n",
    "        actual = torch.tensor(seq).long()\n",
    "        # mask\n",
    "        mask = torch.tensor([1, 0, 1]) # update to randomize mask\n",
    "        ex = actual.clone()\n",
    "        ex[mask == 0] = token2id[\"<UNK>\"] # not necessary\n",
    "        ex = ex.long()\n",
    "\n",
    "        probs = model(ex)  \n",
    "        loss = F.cross_entropy(probs, actual)\n",
    "        optimizer.zero_grad()\n",
    "        loss.backward()\n",
    "        optimizer.step()\n",
    "        wandb.log({\"loss\": loss})\n",
    "wandb.finish()\n"
   ]
  },
  {
   "cell_type": "code",
   "execution_count": 71,
   "metadata": {},
   "outputs": [
    {
     "name": "stdout",
     "output_type": "stream",
     "text": [
      "['c', '<UNK>', 'c']\n"
     ]
    }
   ],
   "source": [
    "ex\n",
    "words = [id2token[i] for i in ex]\n",
    "print(words)"
   ]
  },
  {
   "cell_type": "code",
   "execution_count": 72,
   "metadata": {},
   "outputs": [
    {
     "name": "stdout",
     "output_type": "stream",
     "text": [
      "tensor([[0.0027, 0.0013, 0.0010, 0.9950],\n",
      "        [0.0094, 0.0095, 0.0078, 0.9733],\n",
      "        [0.0027, 0.0013, 0.0010, 0.9950]])\n"
     ]
    }
   ],
   "source": [
    "model.eval()\n",
    "with torch.no_grad():\n",
    "    print(model(ex))\n"
   ]
  },
  {
   "cell_type": "code",
   "execution_count": 77,
   "metadata": {},
   "outputs": [
    {
     "name": "stdout",
     "output_type": "stream",
     "text": [
      "tensor([[0.0011, 0.9936, 0.0036, 0.0016],\n",
      "        [0.0036, 0.9766, 0.0124, 0.0074],\n",
      "        [0.0011, 0.9936, 0.0036, 0.0016]])\n"
     ]
    }
   ],
   "source": [
    "with torch.no_grad():\n",
    "    print(model(torch.tensor([1, 0, 1])))"
   ]
  }
 ],
 "metadata": {
  "kernelspec": {
   "display_name": "venv-transformers",
   "language": "python",
   "name": "python3"
  },
  "language_info": {
   "codemirror_mode": {
    "name": "ipython",
    "version": 3
   },
   "file_extension": ".py",
   "mimetype": "text/x-python",
   "name": "python",
   "nbconvert_exporter": "python",
   "pygments_lexer": "ipython3",
   "version": "3.12.7"
  }
 },
 "nbformat": 4,
 "nbformat_minor": 2
}
